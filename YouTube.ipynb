{
 "cells": [
  {
   "cell_type": "code",
   "execution_count": 1,
   "metadata": {},
   "outputs": [],
   "source": [
    "import tkinter as tk\n",
    "from tkinter import *\n",
    "import os\n",
    "from pytube import YouTube\n",
    "from tkinter import messagebox as m_box\n",
    "import subprocess\n",
    "import threading\n"
   ]
  },
  {
   "cell_type": "code",
   "execution_count": 2,
   "metadata": {},
   "outputs": [],
   "source": [
    "def onClick():\n",
    "    got_link = link.get()\n",
    "    got_path = path.get()\n",
    "    try:\n",
    "        yt = YouTube(str(got_link))\n",
    "    except:\n",
    "        m_box.showerror(\"Error\", \"Due to unspecified url/path or just Connection Problem!\")\n",
    "    else:\n",
    "        vid = yt.streams.get_highest_resolution()\n",
    "        destination = str(got_path)\n",
    "        vid.download(destination)\n",
    "        os.startfile(got_path)\n",
    "        return m_box.showinfo('Successfully Downloaded.', f\"Your YouTube video has been successfully downloaded at {got_path}/{yt.title}\")\n",
    "\n",
    "threads = []"
   ]
  },
  {
   "cell_type": "code",
   "execution_count": 3,
   "metadata": {},
   "outputs": [],
   "source": [
    "def startThreadProcess():\n",
    "    myNewThread = threading.Thread(target = onClick)\n",
    "    threads.append(myNewThread)\n",
    "    myNewThread.start()"
   ]
  },
  {
   "cell_type": "code",
   "execution_count": 4,
   "metadata": {},
   "outputs": [],
   "source": [
    "win = tk.Tk()\n",
    "win.geometry(\"500x400\")\n",
    "win.title(\"YouTube video downloader\")\n",
    "win.minsize(500, 400)\n",
    "win.maxsize(500, 400)\n",
    "win.config(background=\"black\")\n",
    "\n",
    "frame = LabelFrame(win)\n",
    "frame.grid(row=0, column=0, padx=70, pady=90)\n",
    "\n",
    "get_info = Label(frame, text=\"Video Link: \", fg=\"black\", font=\"Arial 12\")\n",
    "get_info.grid(row=1, column=0, sticky=tk.W)\n",
    "\n",
    "link = tk.StringVar()\n",
    "\n",
    "yt_link = Entry(frame, width=60, bg=\"black\", fg=\"white\", textvariable=link)\n",
    "yt_link.grid(row=2, columnspan=3, padx=0, pady=6)\n",
    "yt_link.focus()\n",
    "\n",
    "get_info = Label(frame, text=\"Enter downloading path: \", fg=\"black\", font=\"Arial 12\")\n",
    "get_info.grid(row=4, column=0, sticky=tk.W)\n",
    "\n",
    "path = tk.StringVar()\n",
    "\n",
    "download_path = Entry(frame, width=60, bg=\"black\", fg=\"white\", textvariable=path)\n",
    "download_path.grid(row=5, columnspan=3, padx=0, pady=6)\n",
    "\n",
    "btn1 = Button(frame, text=\"Download Video\", width=15, command=startThreadProcess, bg=\"black\", fg=\"white\", relief=GROOVE, font=\"Georgia, 12\")\n",
    "btn1.grid(row=7, columnspan=3, padx=13, pady=7)\n",
    "\n",
    "win.mainloop()\n"
   ]
  }
 ],
 "metadata": {
  "kernelspec": {
   "display_name": "Python 3",
   "language": "python",
   "name": "python3"
  },
  "language_info": {
   "codemirror_mode": {
    "name": "ipython",
    "version": 3
   },
   "file_extension": ".py",
   "mimetype": "text/x-python",
   "name": "python",
   "nbconvert_exporter": "python",
   "pygments_lexer": "ipython3",
   "version": "3.8.5"
  }
 },
 "nbformat": 4,
 "nbformat_minor": 4
}
